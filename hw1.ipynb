{
  "nbformat": 4,
  "nbformat_minor": 0,
  "metadata": {
    "colab": {
      "provenance": []
    },
    "kernelspec": {
      "name": "python3",
      "display_name": "Python 3"
    },
    "language_info": {
      "name": "python"
    }
  },
  "cells": [
    {
      "cell_type": "markdown",
      "source": [
        "# HW1. Полина Машковцева"
      ],
      "metadata": {
        "id": "7Nd0wtXuiUlU"
      }
    },
    {
      "cell_type": "markdown",
      "source": [
        "## 1. Сбор корпуса"
      ],
      "metadata": {
        "id": "BKFlOJKt_5tQ"
      }
    },
    {
      "cell_type": "code",
      "execution_count": 2,
      "metadata": {
        "colab": {
          "base_uri": "https://localhost:8080/"
        },
        "id": "A3lOjAVUVRVL",
        "outputId": "0bbaabf3-90b2-41a3-b494-1b96edfdfc21"
      },
      "outputs": [
        {
          "output_type": "stream",
          "name": "stdout",
          "text": [
            "Mounted at /content/drive\n"
          ]
        }
      ],
      "source": [
        "from google.colab import drive\n",
        "\n",
        "drive.mount('/content/drive')"
      ]
    },
    {
      "cell_type": "markdown",
      "source": [
        "датасет - **500N-KPCrowd-v1.1** (из статьи https://arxiv.org/abs/1306.4606). описание оттуда: 500N-KPCrowd-v1.1 is a broadcast news transcription dataset. This dataset consists of 500 English broadcast news stories from 10 different categories (art and culture; business; crime; fashion; health; politics us; politics world; science; sports; technology) with 50 docs per category. The ground truth is built using Amazon’s Mechanical Turk service to recruit and manage taggers. Multiple annotators were required to look at the same news story and assign a set of keywords from the text itself. The final ground truth consists of keywords selected at least by 90% of the taggers."
      ],
      "metadata": {
        "id": "421hwJ-Se5rJ"
      }
    },
    {
      "cell_type": "code",
      "source": [
        "! wget https://github.com/LIAAD/KeywordExtractor-Datasets/raw/master/datasets/500N-KPCrowd-v1.1.zip -P drive/My\\ Drive"
      ],
      "metadata": {
        "id": "jxMX087mXZSP"
      },
      "execution_count": null,
      "outputs": []
    },
    {
      "cell_type": "code",
      "source": [
        "! unzip 500N-KPCrowd-v1.1.zip -d drive/My\\ Drive/data"
      ],
      "metadata": {
        "id": "atx8m3gWZCtm"
      },
      "execution_count": null,
      "outputs": []
    },
    {
      "cell_type": "markdown",
      "source": [
        "в архиве содержатся две папки: docsutf8 и keys. в docsutf8 находятся тексты статей в формате *.txt*, в keys - ключевые слова в формате *.key*. название файла с текстом статьи соотносится с названием файла с ключевыми словами."
      ],
      "metadata": {
        "id": "w8VLc50WfRtS"
      }
    },
    {
      "cell_type": "markdown",
      "source": [
        "если посмотреть тексты статей, мы увидим, что ~50 из них - просто новостные заголовки (видимо, какая-то ошибка или лаг парсинга при составлении датасета; с ключевыми словами к таким файлам все в порядке). нам такое не нужно, поэтому при сборе корпуса будем отфильтровывать тексты, в которых содержится меньше 21 слова (фан факт: средняя длина заголовка в англоязычных новостных изданиях - 120 символов; примерно 26 слов при средней длине 4.7 слова в английском языке)."
      ],
      "metadata": {
        "id": "NdEmp5DKgADq"
      }
    },
    {
      "cell_type": "code",
      "source": [
        "from pathlib import Path\n",
        "import os\n",
        "from os import listdir"
      ],
      "metadata": {
        "id": "zYhg45uXgX3M"
      },
      "execution_count": 3,
      "outputs": []
    },
    {
      "cell_type": "code",
      "source": [
        "articles_directory = 'drive/My Drive/data/500N-KPCrowd-v1.1/docsutf8/'\n",
        "keywords_directory = 'drive/My Drive/data/500N-KPCrowd-v1.1/keys/'"
      ],
      "metadata": {
        "id": "V668OxfjgZcz"
      },
      "execution_count": 4,
      "outputs": []
    },
    {
      "cell_type": "code",
      "source": [
        "#собираем корпус-словарь (длиной ~5000 символов) из текстов статей и соответствующих им ключевых слов\n",
        "\n",
        "articles = {}\n",
        "corpus_length = 0\n",
        "\n",
        "for article in listdir(articles_directory):\n",
        "  articles_file = os.path.join(articles_directory, article)\n",
        "  with open(articles_file, 'r', encoding='utf-8') as a:\n",
        "    text = a.read()\n",
        "  keywords_file = os.path.join(keywords_directory, article[:-4] + '.key')\n",
        "  with open(keywords_file, 'r', encoding='utf-8') as k:\n",
        "    words = k.read()\n",
        "  if len(text.split()) > 20:\n",
        "    articles.update({text: words.split('\\n')})\n",
        "  corpus_length += len(text.split())\n",
        "  if corpus_length >= 5000:\n",
        "    break"
      ],
      "metadata": {
        "id": "Vwg1wY9hcew2"
      },
      "execution_count": 5,
      "outputs": []
    },
    {
      "cell_type": "markdown",
      "source": [
        "## 2. Ручная разметка"
      ],
      "metadata": {
        "id": "iZJGA7Pc_9UX"
      }
    },
    {
      "cell_type": "markdown",
      "source": [
        "прочитаем загруженные тексты (буквально)."
      ],
      "metadata": {
        "id": "qUF0lYzPfWtJ"
      }
    },
    {
      "cell_type": "code",
      "source": [
        "len(articles.keys())"
      ],
      "metadata": {
        "colab": {
          "base_uri": "https://localhost:8080/"
        },
        "id": "qKN8cj35ubrC",
        "outputId": "874a4082-a9b8-46c4-e500-b67359824bdd"
      },
      "execution_count": 8,
      "outputs": [
        {
          "output_type": "execute_result",
          "data": {
            "text/plain": [
              "15"
            ]
          },
          "metadata": {},
          "execution_count": 8
        }
      ]
    },
    {
      "cell_type": "code",
      "source": [
        "for key in articles.keys():\n",
        "  print(key + '\\n\\n')"
      ],
      "metadata": {
        "colab": {
          "base_uri": "https://localhost:8080/"
        },
        "id": "pm-Kan4rfPaT",
        "outputId": "a116aadd-0bab-4502-dcd5-2b4f3769ee5f"
      },
      "execution_count": 7,
      "outputs": [
        {
          "output_type": "stream",
          "name": "stdout",
          "text": [
            "Broncos top brass skip the workout of D-lineman Bowers\n",
            "Clemson defensive end Da'Quan Bowers threw a workout party Friday, and the Broncos' top football decision-makers did not attend. Bowers, whose right knee surgery earlier this year has threatened his top-10 status in the NFL draft, worked out at Clemson University while Broncos executive vice president of football operations John Elway, general manager Brian Xanders and coach John Fox elected to stay home and meet with Washington quarterback Jake Locker instead. Locker was at the team's Dove Valley complex. The Broncos, who have repeatedly said they like their quarterback triumvirate of Kyle Orton, Tim Tebow and Brady Quinn, also attended Missouri quarterback Blaine Gabbert's workout last month and are scheduled to be the last stop on Auburn quarterback Cam Newton's tour of teams later this month. Locker had been the top-ranked senior prospect by many teams before the 2010 season began, but he saw his draft stock take a hit as the Huskies struggled early last season before winning their last four games to finish 7-6, including a victory in the Holiday Bowl. Locker looked indecisive in the pocket at times this past season, but he's a natural athlete who rushed for more than 300 yards and passed for more than 2,000 yards in three of his four seasons. Locker had a difficult week at the Senior Bowl in January as he struggled with his accuracy. But he has performed well in workouts. Bowers, who had been a popular pick for the defense-starved Broncos at No. 2 by many draft analysts earlier this year, has seen his draft status take a potentially multimillion- dollar hit because of surgery just after the season to repair cartilage in his right knee. Bowers did not work out at the scouting combine in February as he recovered, nor did he work out at Clemson's first pro day last month. On Friday, with Broncos director of college scouting Matt Russell on hand, Bowers went through an entire workout. Representatives from three teams on hand said he still was not 100 percent and appeared to have difficulty cutting on the repaired leg. His 40-yard dash times were in the high 4.8s and low 4.9s — depending on the watch — which are slightly slower than he likely would have run before the surgery. Teams examined Bowers' knee closely during the medical exam at the combine, and several scouts have said some team officials are concerned the knee may still give Bowers trouble. Bowers is 6-feet-3, 280 pounds and is a force when healthy. He led the nation in sacks in 2010 with 15 1/2 and won the Nagurski and Ted Hendricks awards. The Broncos have an interest in another Clemson defensive lineman who worked out Friday, tackle Jarvis Jenkins. At 6-4, 310 pounds, Jenkins showed good power and quickness off the ball at the Senior Bowl practices in January. Jeff Legwold: 303-954-2359 or jlegwold@denverpost.com \n",
            "\n",
            "\n",
            "Do At-Home Genetic Tests Tell Too Much and Explain Too Little?\n",
            "Experts say field is in its infancy and consumers should seek professional opinions on results FRIDAY, April 1 (HealthDay News) - At-home pregnancy tests can tell you unequivocally in minutes whether a baby is on the way and if it is time to call your doctor. But, at-home genetic tests - which may offer tantalizing clues about future health risks - are still in their infancy, and genetic counselors are concerned that the results may puzzle or even panic consumers who don't seek professional guidance. The explosion of direct-to-consumer genetic tests over the past several years has made it seemingly simple to test for a wide variety of medical scenarios. A swab of the cheek or a vial of blood can discern whether one is a carrier of an inherited disorder such as cystic fibrosis, for instance, or predict the risk for diseases such as breast cancer or Parkinson's. Newer tests purportedly predict how people might respond to a specific drug or medical treatment. But shelling out several hundred dollars or more for one of these tests - which are widely available online - does not equip consumers to understand the findings or their repercussions, genetic counselors say. Because people might base medical decisions on the results, the U.S. Food and Drug Administration decided this month to restrict the tests on a case-by-case basis. \"\"To me, it's still very much in the recreational realm,\"\" said Caroline Lieber, a genetic counselor and director of the graduate program in human genetics at Sarah Lawrence College in Yonkers, N.Y. \"\"The concern I have is the majority of the people feel knowledge is power, whereas most haven't thought through the implications at all.\"\" The U.S. Human Genome Project, begun 21 years ago to map out which genes are responsible for both physical and functional traits, led to unprecedented knowledge about how genes affect people's propensity for dozens of traits and conditions. But few predicted at the outset the complications that capitalism might create. A recent undercover study of 15 direct-to-consumer tests by the U.S. Government Accountability Office found \"\"egregious examples of deceptive marketing, in addition to poor or non-existent advice from supposed consultation experts,\"\" according to a recent report in The Lancet . The bottom line, Lieber said, is that an increasing number of companies' bottom lines are impacted by people's desires to live longer, healthier lives. \"\"My sense right now is it's very much about those companies making money,\"\" said Lieber, whose human genetics master's program at Sarah Lawrence is the nation's first and largest. \"\"The cynic in me says they're doing it mostly to make money, but I do think that's changing. Now phone counseling is being offered, and it's better than not having anything.\"\" Whether conducted by phone, Internet or in person, such counseling - if done by qualified experts - can help translate hard science into information that the average consumer can understand. For example, if a genetic test shows a low risk of diabetes, that doesn't mean that diet, exercise and other healthy lifestyle measures aren't necessary, said Dr. Robb Rowley, an internal medicine physician at Amigenics, a Las Vegas-based genetic testing and counseling group. \"\"At this point, I still recommend genetic testing be done through a health-care provider,\"\" said Rowley, whose patients mostly consult on their predisposition to cancer. \"\"Some have dire consequences . . . and without having a physician involved, people might do something [to change their lives] that they wouldn't otherwise do.\"\" Lieber said she thinks most who order at-home tests are unaware counseling exists to help them interpret the results. Others, she suspects, don't want the scrutiny of outsiders knowing their personal medical history. \"\"Probably my biggest concern is to have them understand genetic counselors are not there to tell people what to do. I think that's a misperception about the field,\"\" she said. But, \"\"if the results make them view themselves not as a person, but as a carrier for something - if they haven't thought about it - it can truly be damaging.\"\" Rowley said the ultimate scenario, which he predicts is five to 10 years out, is to be able to use each individual's unique DNA to optimize their care. \"\"The goal in the future is to be able to take that individual and say, \"\"Don't worry about osteoporosis, let's focus on your cardiovascular health, and by the way, this medication has a 40 percent chance of working for you,\"\"\"\" Rowley said. \"\"To a limited extent, we're there now.\"\" \n",
            "\n",
            "\n",
            "\"\"Obama\"\" robber nabbed, say Austrian officials - Crimesider\n",
            "(CBS/AP) VIENNA - An arrest has been made in a string of bank robberies committed in Austria, by a suspect wearing a mask of Barack Obama. Pictures: Most outrageous bank robbers Police say the 45-year-old German man is suspected of carrying out seven heists since 2008, the most recent on Thursday afternoon in the village of Fornach, northeast of Salzburg. He was taken into custody about 2 miles away a short time later after a police dog found a bag containing the Obama mask, a weapon and the loot. The unidentified man has confessed to the robberies, Police official Markus Mitloehner said Friday. There is no word on whether Donald Trump has asked to see the man's birth certificate. More on Crimesider January 24, 2011 - Veto This! Armed \"\"Obama Robber\"\" Holding Up Austrian Banks Most Outrageous Bank Robbers \n",
            "\n",
            "\n",
            "Tea Party\n",
            "As negotiations on this year's federal budget continue, the Tea Party yesterday rallied on the lawn near the Capitol, aiming to buck up Republicans to stand firm for deep cuts. There's one week to go until another potential government shutdown. \n",
            "\n",
            "\n",
            "Ten trapped underground in coal mine accident in China's Xinjiang\n",
            "URUMQI, April 2 (Xinhua) - Ten people were trapped underground in a coal mine Saturday in northwest China's Xinjiang Uygur Autonomous Region. Initial investigation shows that the accident was a coal and gas outburst at 1:08 p.m. Saturday in the provincial capital Urumqi, said a spokesman of the region's coal mine safety supervision bureau. \n",
            "\n",
            "\n",
            "Guest lineups for the Sunday news shows\n",
            "Guest lineups for the Sunday news shows (AP) WASHINGTON (AP) — Guest lineup for the Sunday TV news shows: ABC's \"\"This Week\"\" — Retired Gen. James Jones, President Barack Obama's former national security adviser; Sens. Chuck Schumer, D-N.Y., and Jeff Sessions, R-Ala. ___ NBC's \"\"Meet the Press\"\" — Sen. Dick Durbin, D-Ill., and Rep. Mike Rogers, R-Mich. ___ CBS' \"\"Face the Nation\"\" — Sens. Harry Reid, D-Nev., and Lindsey Graham, R-S.C. ___ CNN's \"\"State of the Union\"\" — Jones; Sen. John Cornyn, R-Texas ___ \n",
            "\n",
            "\n",
            "Sony CEO Accidentally Reveals Secret Details about iPhone 5\n",
            "Sir Howard Stringer, CEO of Sony, accidentally told everyone in the world that his company will be supplying image sensors for Apple‘s iPhone 5. In an interview late Friday with the Wall Street Journal’s Walt Mossberg, the Sony chief was talking about earthquake damage to 15 of the Sony’s factories in Japan, and inadvertently mentioned that a camera sensor made in one of those plants is on its way to Apple, and that sensor would be delayed because of the quake and tsunami. Stringer didn’t specifically say that Sony is building an 8-megapixel image sensor that will go into the iPhone 5, but since Sony is currently not manufacturing any image sensors for Apple, this confirmed that Sony plans to supply components of the iPhone 5. This points to the distinct possibility that in the iPhone 5, Apple will no longer be using those OmniVision 5-megapixel image sensors currently inside the iPhone 4. This is supported by an analyst’s report from February of this year saying that OmniVision might lose out on supplying cameras for the iPhone 5 because OmniVision’s 8-megapixel sensor won’t be ready for the iPhone 5′s rumored mid-summer launch. Because Stringer was talking about the irony of supplying the company’s best camera to Apple, we can only surmise that he was talking about an 8-megapixel sensor. Here’s what The Wall Street Journal wrote about Stringer’s quote when reporting on its own event this morning: Early on, he raised the irony of Sony supplying camera components for Apple devices. It “always puzzles me,” he said. “Why would I make Apple the best camera?” It is unclear what devices he was talking about as Sony isn’t known to supply key camera components, known as image sensors, to Apple; A Sony spokeswoman declined to comment and an Apple spokesperson couldn’t be reached for comment. Stringer’s inadvertent slip also lends credence to the rumors of a delayed release of the iPhone 5. So what do you think, readers? Is this enough evidence for us to bet on a Sony 8-megapixel camera going into the iPhone 5? \n",
            "\n",
            "\n",
            "Calorie counting on menus to exempt movie theaters\n",
            "Washington • Like it or not, many restaurant diners will soon know more about what they are eating under menu labeling requirements proposed Friday by the Food and Drug Administration. But don't expect calorie shock when ordering at the movie theater, where a tub of popcorn can contain well north of a thousand calories - movie theaters are exempt, along with airplanes, bowling alleys and other businesses whose primary business is not to sell food, according to the FDA. Movie theaters pushed to be left out after guidelines published last year included them. The requirements will force chain restaurants with 20 or more locations, along with bakeries, grocery stores, convenience stores and coffee chains, to clearly post the amount of calories in each item on menus, both in restaurants and drive-through lanes. The new rules will also apply to vending machines where calorie information isn't already visible on the package. The calorie counts will apply to an estimated 280,000 establishments and could be on menus by 2012. Required as part of health overhaul legislation signed into law last year, they are designed to give restaurant diners information that has long been available on packaged goods cooked at home. The FDA estimates that a third of calories are consumed by eating out. \"\"We've got a huge obesity problem in this country and it's due in part to excess calorie consumption outside the home,\"\" says Mike Taylor, FDA deputy commissioner for foods. \"\"Consumers generally when you ask them say they would prefer to have that information.\"\" The FDA said it will take feedback on the proposed rules before finalizing them, probably by the end of this year. In addition to movie theaters, alcohol will also be exempted, and Margo Wootan, of the nutrition policy at the advocacy group Center for Science in the Public Interest, says the latter could be misleading to consumers. \"\"I think it's going to be confusing if customers see the calories for soft drinks and juice labeled on the menu but not other drinks such as beer and wine. It will make it seem like they are better choices.\"\" Still, Wootan says the guidelines are a positive step. \"\"You won't have to get out of line and go back to some poster by the bathroom and look at some item in a tiny font size.\"\" The idea is to make sure that customers process the calorie information as they are figuring out what to eat. Many restaurants currently post nutritional information in a hallway, on a hamburger wrapper or on their website. The new law will make calories immediately available for most items. Copyright 2011 The Salt Lake Tribune. All rights reserved. This material may not be published, broadcast, rewritten or redistributed. \n",
            "\n",
            "\n",
            "Air Pollution Affects Troops in Iraq: As Deadly as Terrorists?\n",
            "The air pollution in Iraq is nearly as deadly to troops as the enemy is or so a new study finds out. Researchers from the University of Alaska presented the surprising information to the American Chemical Society this week during a meeting held in Anaheim, CA. There never seems to be good news of any kind associated with what seems like an endless war. Air pollution is just the latest negative thing to come to light. Apparently, the air pollution in Iraq is comprised of particulate matter a.k.a. fine particles which are being breathed in by U.S. troops. The particulate matter then lodges \"\"deep inside people's lungs\"\" which could even cause death to some. Researchers state that troops are breathing in air pollution that is \"\"10 times higher that the desirable levels in the U.S. National Ambient Air Quality Standards.\"\" Sadly, it seems this is just another thing for our men and women in uniform to have to worry about. One can try to dodge bullets and bombs but how does one escape from the very air they breathe? © Evalynn J. Saeyang - Gather Inc. 2011 \n",
            "\n",
            "\n",
            "Is It a Cold? Or an Allergy?\n",
            "Symptoms may be similar, but the causes are not FRIDAY, April 1 (HealthDay News) - Colds and allergies can cause similar symptoms, and finding out which condition you have is the first step in getting relief, according to the American College of Allergy, Asthma and Immunology (ACAAI). Colds are caused by one of more than 200 viruses that get transmitted from person to person. Allergies, which are not contagious, are caused by allergens, such as pollen, that prompt the immune system to overreact. In spring, high levels of tree and grass pollens cause sneezing and other cold-like symptoms for the estimated 60 million Americans with allergic rhinitis, more commonly known as hay fever. There are a number of ways to distinguish between spring allergies and a cold, says the ACAAI. Colds generally evolve, starting with a stuffy nose, throat irritation and low-grade fever, followed by sneezing and a runny nose with thickening mucus that often turns yellow or green. Common allergy symptoms include sneezing, itchy eyes and nose, but the mucus is typically clear. While colds usually last a week or two, allergy symptoms persist and can even get worse with continued exposure to the allergen causing your symptoms. Spring allergies can last six weeks or more. Aches and fever most likely indicate a cold, while itchy eyes are strong evidence of allergies. A sore throat and cough can occur with allergies, but most likely suggest a cold. Coughing is common in colds but can also be a sign of allergy-related asthma, especially in children. People with a persistent cough should see an allergist, the ACAAI advises. \n",
            "\n",
            "\n",
            "Federal court tosses NH man's health overhaul suit\n",
            "CONCORD, N.H. - A federal court has thrown out a New Hampshire man's lawsuit challenging the constitutionality of the government's health care overhaul, saying he lacked standing to sue because his Medicare coverage will automatically satisfy the law's insurance mandate. Harold Peterson, 80, of Nashua, sued President Barack Obama and Congress last year objecting mainly to the law's requirement that nearly all Americans carry health insurance. While similar lawsuits have been filed around the country, Peterson's case appears to have been the first brought by a Medicare recipient, according to U.S. District Court Judge Joseph Laplante, who dismissed the lawsuit Wednesday. Laplante acknowledged that the law, and the insurance mandate in particular, \"\"may raise interesting constitutional issues,\"\" but said Peterson had no standing to challenge it because he did not plausibly explain how the mandate would harm him. \"\"As the defendants note, Medicare coverage automatically satisfies the Act's health insurance mandate. So Peterson will not have to incur any financial burdens, or indeed do anything at all, to satisfy the mandate. The federal government will satisfy it for him,\"\" the court wrote. Peterson, who works as a real estate consultant and represented himself in court, said Friday that he disagrees with that reasoning because he believes the law could end up reducing Medicare benefits. \"\"The fact that you have Medicare doesn't make a difference because Medicare is being impacted as well,\"\" he said. The court pointed out that the law expressly states that none of its provisions shall result in a reduction of guaranteed benefits for those covered by Medicare, the government health program for people over age 65. While that doesn't necessarily guarantee the intended results, Peterson's speculation that the law may end up causing benefit reductions wasn't enough to allow the case to continue, the judge wrote. The court also rejected Peterson's claim that the law has caused his supplemental private health insurance premiums to rise. In order for him to sue on those grounds, he would have had to show that a ruling in his favor would have reversed that harm. But since his private insurer wasn't part of the lawsuit, declaring the law unconstitutional would not have ensured that his premiums would go down. Despite the ruling, Peterson said he will continue to highlight what he views as a constitutional crisis. \"\"I decided to file it because I, as well as a lot of other people, are getting tired of the fact that our legislators and other government people are completely ignoring the Constitution,\"\" he said. \n",
            "\n",
            "\n",
            "Weekend Shopping Bargains: Check Out These Great Deals and Coupon Codes\n",
            "Big Discounts on Clothing, Jewelry, Shoes, and Toys for \"\"GMA\"\" Viewers April is here and \"\"Good Morning America's\"\" series \"\"Where the Weekend Sales Are,\"\" has great deals for the first weekend of the month. Check out these great bargains on clothes, jewelry and shoes available only to \"\"GMA\"\" viewers. Refinestyle : Nanette Lepore Dress Refinestyle.com puts consignment sales at your fingertips. It's an online marketplace for what it calls \"\"pre-loved\"\" designer fashions and accesories at prices 70 percent to 90 percent off. Today and Saturday only, a Nanette Lepore cocktail dress originally priced at $332 and already discounted at $80 will be available to \"\"GMA\"\" viewers for only $40. Also, a Fendi bag that retails for $795 is on sale for just $90. Refinestyle.com also is offering \"\"GMA\"\" viewers exclusive half-price deals on 1,000 sale items. All of the items will be tagged with an exclusive \"\"GMA\"\" button, and you can access all the deals by clicking on \"\"Good Morning America Exclusive Sale.\"\" Tell me what you'd love to see featured in a future weekend deals segment and I'll hustle to hunt it down for you. Talk to me on Twitter or Facebook. Piperlime: Half-Off Shoes Piperlime.com has deals on great shoes such as the Dolce Vita Jollen in gold. Regularly priced at $125, \"\"GMA\"\" viewers can buy them for $62.50, 50 percent off. Just use the promo code: gma50off. Go quickly though, because this deal is available today only while supplies last. Emily Elizabeth Jewelry: Necklaces 60 Percent Off Today through Sunday, three necklaces from Emily Elizabeth Jewelry's \"\"lucky collection,\"\" are available to \"\"GMA\"\" viewers only for 60 percent off. The \"\"Lucky Clover\"\" necklace, priced at $42, is on sale for just $17. The \"\"Good Fortunes\"\" necklace priced at $65, is available for $26 and the \"\"Wishbone\"\" necklace priced at $60 is available for just $24.The sale can be unlocked using the promo code: GMA. Zulily: Designer Clothes Just in time for Easter, get a perfect dress for the little girl in your life at Zulily.com, a designer discount site with daily deals for moms, babies, and kids, with discounts ranging from 50 percent to 90 percent off retail. After creating a free account, \"\"GMA\"\" viewers can take an extra 15 percent off of those already-discounted prices by using the promo code: GMA15. 15% Off Any Order - Valid 4/1-4/4 (Furniture, Vouchers and Gift Cards Excluded - One use per member) CLICK HERE. Pillow Pets: With Any Purchase, Get 2 Games Free Pillow Pets, the plush toys/pillows, are available at a a great deal today through Saturday. \"\"GMA\"\" viewers that purchase one Pillow Pet get two board games free with their order - a $20 value - for an extra $2 for shipping. Plus, $1 from every Pillow Pets purchase will go to the Red Cross through the month of April. The deal can be unlocked using the promo code: GMA. Blurb: 25 Percent Off Photo Books Blurb.com, a do-it-yourself photo book site, is offering a great deal on its photo books until April 13 - a great gift for grandparents or for couples creating their wedding albums. At checkout, \"\"GMA\"\" viewers can enter the promo code: GMA (case sensitive) to get 25 percent off (Prices vary depending on the size of the photo books.) Discount offer valid through April 13, 2011 (11:59 p.m. local time). A 25% discount is applied toward the product total of one order. Maximum discount is US $100.00 off product totals, and requires a minimum purchase of US $12.95. This offer is good for one-time use and cannot be combined with other promotional codes, offers, gift cards, or used for adjustments on previous orders. Tory Johnson is the CEO of Women For Hire and the Workplace Contributor for ABC's \"\"Good Morning America.\"\" \n",
            "\n",
            "\n",
            "Dita Von Teese ditches sex siren wears for shapeless retro dress and flat heels\n",
            "We are used to seeing the Burlesque star evoking 1950\"\"s glamour in tight corsets, seductive dresses and high heels - but even Dita Von Teese has her dressed down days. The Queen of Burlesque was looking far from her glamorous stage self as she popped to the shops L.A. with her boyfriend. The 38-year-old performer and model was cruising around in a burgundy 1946 Super Deluxe Ford coupe and was clearly enjoying a relaxed day in an outfit that was less sexy seductress and more washerwoman. Dita soaked up the sunshine with the roof of her car down with her boyfriend French model and aristocrat Louis Marie De Castelbajac. The model kept her creamy skin undercover shielded with a headscarf in-keeping with the retro scene. But while we are used to seeing Dita in highly provocative outfits she opted for a much more understated look as she popped to the shops with her man. Dita had donned a midi-length black dress with multi-colored flowers and plants print and as usual was sporting her signature bright red lipstick. Louis-Marie, 27, also fitted in with the casual retro look in a plain white T-shirt, a pair of brown trousers and blue and brown brogues. The pair have been dating since April 2009 and Louis-Marie comes from one of the oldest and most prestigious families in France which dates back over 1000 years. His mother is an American writer and his father, Jean-Charles de Castelbajac, is a world famous fashion designer. As well as visiting Alberton’s to pick up some supplies the pair also cruised through Griffith Observatory in L.A. – where on bemused fan spotted the star. The burlesque dancer confirmed her location on Twitter and posted to the fan: ‘that's where I take my vintage cars out for a cruise!’ Dita glammed up for the Vivienne Westwood store opening party in L.A. on Wednesday night and oozed timeless style in her black taffeta gown. The Burlesque performer teamed the Vivienne Westwood dress with a pair of gloves, her signature bright red lips and a feathered fascinator. Do you have a story about a celebrity? Call the Daily Mail showbusiness desk on 0207 938 6364 or 0207 938 6683. For U.S. stories, phone 310 642 2317. \n",
            "\n",
            "\n",
            "FDA Proposes Calorie Counts On Restaurant Menus\n",
            "It could get harder to indulge in a double cheeseburger and fries without feeling guilty. Menu labeling requirements proposed Friday by the Food and Drug Administration will require chain restaurants with 20 or more locations, along with bakeries, grocery stores, convenience stores and coffee chains, to clearly post the calorie count for each item on their menus. \"\"We've got a huge obesity problem in this country and it's due in part to excess calorie consumption outside the home,\"\" says Mike Taylor, FDA deputy commissioner for foods. \"\"Consumers generally when you ask them say they would prefer to have that information.\"\" The new rules will apply to menus, both in restaurants and drive-through lanes. They will also apply to vending machines if calorie information isn't already visible on the package. The calorie counts will apply to an estimated 280,000 establishments and could be on menus by 2012. Required as part of health overhaul legislation signed into law last year, they are designed to give restaurant diners information that has long been available on packaged goods cooked at home. The FDA estimates that a third of calories are consumed by eating out. But don't expect calorie shock when ordering at the movie theater, where a tub of popcorn can contain well north of a thousand calories - movie theaters are exempt, along with airplanes, bowling alleys and other businesses whose primary business is not to sell food, according to the FDA. Movie theaters pushed to be left out after guidelines published last year included them. Alcohol will also be exempted, according to the agency. Margo Wootan, director of nutrition policy at the advocacy group Center for Science in the Public Interest, says that could be misleading to consumers. \"\"I think it's going to be confusing if customers see the calories for soft drinks and juice labeled on the menu but not other drinks such as beer and wine,\"\" she said. \"\"It will make it seem like they are better choices.\"\" Still, Wootan says the guidelines are a positive step. \"\"You won't have to get out of line and go back to some poster by the bathroom and look at some item in a tiny font size,\"\" she says. \"\"It will be right there on the menu where you are getting your other information about what to order.\"\" The idea is to make sure that customers process the calorie information as they are figuring out what to eat. Many restaurants currently post nutritional information in a hallway, on a hamburger wrapper or on their website. The new law will make calories immediately available for most items. Menus and menu boards will also tell diners that a 2,000-calorie diet is used as the basis for general nutrition advice, noting that individual calorie needs may vary. The labeling requirements were added to the health bill with the support of the restaurant industry, which is facing a smattering of laws from cities and states. New York City was the first in the country to put a calorie posting law in place. Since then, California, Seattle and other places have done so. Dawn Sweeney, president and CEO of the National Restaurant Association, said the calorie postings will provide customers with consistent information. \"\"The new standard,\"\" she said, \"\"will help chain restaurants provide the same type of nutrition information to consumers in any part of the country.\"\" \n",
            "\n",
            "\n",
            "Unemployment drop boosts stocks\n",
            "Unemployment report showing a gain of 216,000 jobs provided a lift for stocks. With unemployment rate at a two-year low, the Dow rose 56 points. By Abby Schultz and JeeYeon Park, CNBC.com Stocks ended off the highs of the day as technology slumped, but a surprisingly strong jobs report gave a lift to the market as it ended higher for a second straight week. The Dow Jones Industrial Average rose 56.99 points, or 0.5 percent, to close at 12,376.72. The blue-chip index gained 156.13 points, or 1.3 percent, this week, and was up for the second week in a row, rising 4.37 percent. Caterpillar rose the most on the Dow for the week, gaining nearly 3.7 percent for the week, while Hewlett-Packard fell the most, losing 3.65 percent. The S&P 500 rose 6.58 points, or 0.5 percent, to close at 1,332.41. For the week, the S&P rose 18.61 points this week, or 1.4 percent. The S&P 500 has risen 4.2 percent over the last two weeks. AT&T rose the most on the S&P Index this week, gaining more than 6 percent, while Apple fell the most, losing nearly 2 percent. The Nasdaq gained 8.53 points, or 0.3 percent, to 2,789.60 on Friday. For the week, the tech-heavy index gained 46.54 points this week, or 1.7 percent. The Nasdaq has risen 145.93 points, or 5.5 percent, in the past two weeks. The CBOE Volatility Index, widely considered the best gauge of fear in the market, fell below 18. Among key S&P sectors, industrials and consumer staples gained, while technology and telecom fell. While some investors don't expect the strong showing from the beginning of the year to extend through April, Ryan Detrick, senior technical analyst at Schaeffer's Investment Research points out that April has proven to be a very strong month for the last five years, posting returns of more than 4 percent. \"\"We would not be shocked if we have an upward surprise in earnings season, and that could be a major catalyst to higher prices in April,\"\" Detrick sad. Another technical point in the market's favor: when the S&P 500 rises more than 5 percent in a quarter (like it just did), it's very bullish for April as well as the rest of the year, according to Schaeffer's research, which notes that this has happened only four times since 1987. In these instances, the S&P 500 averages a return of more than 16 percent for the rest of the year, Schaeffer said. \n",
            "\n",
            "\n"
          ]
        }
      ]
    },
    {
      "cell_type": "markdown",
      "source": [
        "вручную подберем к ним ключевые слова."
      ],
      "metadata": {
        "id": "jo8ZF5S_kCqm"
      }
    },
    {
      "cell_type": "code",
      "source": [
        "keywords_manual = [['Clemson', 'Da\\'Quan Bowers', 'football', 'Broncos', 'NFL', 'Dove Valley', 'Huskies', 'Holiday Bowl'], ['genetic tests', 'genetics', 'health', 'diseases', 'U.S. Food and Drug Administration', 'Sarah Lawrence College', 'genetic counseling', 'DNA'], ['Barack Obama', 'Obama', 'Austria', 'robbery', 'bank robbery'], ['federal budget negotiations', 'Tea Party', 'Capitol', 'Republicans', 'government shutdown'], ['coal mine accident', 'China', 'Xinjiang', 'coal mine', 'coal outburst', 'gas outburst', 'Urumqi'], ['Sunday news TV shows', 'Washington', 'This Week', 'Meet the Press', 'Face the Nation', 'State of the Union'], ['Sony', 'iPhone 5', 'Wall Street Journal', 'Japan', 'earthquake', 'tsunami', 'image sensors', 'Apple', 'OmniVision'], ['calories', 'calorie counting', 'dieting', 'Food and Drug Administration', 'FDA', 'health overhaul legislation', 'eating out', 'obesity', 'Center for Science in the Public Interest', 'nutrition', 'health'], ['Iraq', 'air pollution', 'University of Alaska', 'Anaheim', 'CA', 'California', 'American Chemical Society', 'Iraq War', 'USA', 'war'], ['cold', 'allergy', 'ACAAI', 'immune system', 'disease symptoms', 'allergic rhinitis', 'hay fever'], ['federal court', 'NH', 'New Hampshire', 'health care', 'health insurance', 'Medicare'], ['shopping', 'Good Morning America', 'GMA', 'sale', 'discounts', 'Where the Weekend Sales Are', 'weekend sales', 'fashion', 'clothing', 'jewelry', 'shoes', 'toys'], ['Dita Von Teese', 'burlesque', 'L.A.', 'fashion', 'Louis Marie De Castelbajac', 'models', 'Griffith Observatory', 'dancers', 'Vivienne Westwood'], ['calorie counts', 'Food and Drug Administration', 'FDA', 'obesity', 'calorie consumption', 'eating out', 'nutrition', 'Center for Science in the Public Interest', 'National Restaurant Association', 'health'], ['unemployment', 'unemployment drop', 'stocks', 'investment']]"
      ],
      "metadata": {
        "id": "z28n7qEE-RC-"
      },
      "execution_count": 9,
      "outputs": []
    },
    {
      "cell_type": "markdown",
      "source": [
        "посчитаем сходство. на всякий случай будем переводить все элементы в нижний регистр."
      ],
      "metadata": {
        "id": "3iEsjlYBCDVb"
      }
    },
    {
      "cell_type": "code",
      "source": [
        "def evaluate_keyword_extraction(golden: list, target: list):\n",
        "  precisions = []\n",
        "  recalls = []\n",
        "  f1_scores = []\n",
        "  for i in range(len(golden)):\n",
        "    golden_lower = list(map(lambda j: j.lower(), list(golden)[i]))\n",
        "    target_lower = list(map(lambda k: k.lower(),list(target)[i]))\n",
        "    intersection = len(set(golden_lower) & set(target_lower))\n",
        "    precision = intersection / len(golden_lower)\n",
        "    precisions.append(precision)\n",
        "    recall = intersection / len(target_lower)\n",
        "    recalls.append(recall)\n",
        "    # print(f'Precision for text {i+1} is {round((precision), 3)}')\n",
        "    if (precision + recall) != 0:\n",
        "      f1_score = 2 * (precision * recall) / (precision + recall)\n",
        "      f1_scores.append(f1_score)\n",
        "      # print(f'Recall for text {i+1} is {round((recall), 3)}')\n",
        "      # print(f'F1-score for text {i+1} is {round((f1_score), 3)}\\n\\n')\n",
        "    # else:\n",
        "    #   print(f'Recall for text {i+1} is {round((recall), 3)}\\n\\n')\n",
        "  average_precision = sum(precisions) / len(precisions)\n",
        "  average_recall = sum(recalls) / len(recalls)\n",
        "  average_f1_score = sum(f1_scores) / len(f1_scores)\n",
        "  return average_precision, average_recall, average_f1_score"
      ],
      "metadata": {
        "id": "dxnGFWrDBw_o"
      },
      "execution_count": 62,
      "outputs": []
    },
    {
      "cell_type": "code",
      "source": [
        "manual_average_precision, manual_average_recall, manual_average_f1_score = evaluate_keyword_extraction(articles.values(), keywords_manual)"
      ],
      "metadata": {
        "id": "AlZ-FePIkWZo"
      },
      "execution_count": 39,
      "outputs": []
    },
    {
      "cell_type": "code",
      "source": [
        "print(f'Average precision is {manual_average_precision}')\n",
        "print(f'Average recall is {manual_average_recall}')\n",
        "print(f'Average f1_score is {manual_average_f1_score}')"
      ],
      "metadata": {
        "colab": {
          "base_uri": "https://localhost:8080/"
        },
        "id": "UWK9YTt0iVMv",
        "outputId": "abbbe3ea-4b6a-444c-b179-57c043a0286e"
      },
      "execution_count": 40,
      "outputs": [
        {
          "output_type": "stream",
          "name": "stdout",
          "text": [
            "Average precision is 0.06505710545225313\n",
            "Average recall is 0.3677873977873978\n",
            "Average f1_score is 0.11582914662604668\n"
          ]
        }
      ]
    },
    {
      "cell_type": "markdown",
      "source": [
        "ну такое... сделаем эталоном разметки пересечение корпусной и ручной."
      ],
      "metadata": {
        "id": "m4ZwTR6mH828"
      }
    },
    {
      "cell_type": "code",
      "source": [
        "golden_standard = []\n",
        "\n",
        "for i in range(len(articles.values())):\n",
        "  corpus_lower = list(map(lambda j: j.lower(), list(articles.values())[i]))\n",
        "  manual_lower = list(map(lambda k: k.lower(), keywords_manual[i]))\n",
        "  golden_standard.append(list(corpus_lower + manual_lower))"
      ],
      "metadata": {
        "id": "7F-OR3sPHGuU"
      },
      "execution_count": 13,
      "outputs": []
    },
    {
      "cell_type": "markdown",
      "source": [
        "## 3. Извлечение ключевых слов"
      ],
      "metadata": {
        "id": "ZPYF9RmbASSY"
      }
    },
    {
      "cell_type": "markdown",
      "source": [
        "будем брать топ-15 ключевых слов/фраз (чтобы не выходило слишком много)."
      ],
      "metadata": {
        "id": "XyzII7y7kBo1"
      }
    },
    {
      "cell_type": "markdown",
      "source": [
        "### 3.1. TextRank"
      ],
      "metadata": {
        "id": "Qd_EhzUsiPWD"
      }
    },
    {
      "cell_type": "code",
      "source": [
        "! python3 -m pip install pytextrank"
      ],
      "metadata": {
        "id": "doVkJoqTiNs2"
      },
      "execution_count": null,
      "outputs": []
    },
    {
      "cell_type": "code",
      "source": [
        "! python3 -m spacy download en_core_web_sm"
      ],
      "metadata": {
        "id": "rwr-ZYh6iaWu"
      },
      "execution_count": null,
      "outputs": []
    },
    {
      "cell_type": "code",
      "source": [
        "import spacy\n",
        "import pytextrank"
      ],
      "metadata": {
        "id": "9kODZVqYigd9"
      },
      "execution_count": 16,
      "outputs": []
    },
    {
      "cell_type": "code",
      "source": [
        "nlp = spacy.load('en_core_web_sm')"
      ],
      "metadata": {
        "id": "K0T3In66ixGM"
      },
      "execution_count": 17,
      "outputs": []
    },
    {
      "cell_type": "code",
      "source": [
        "nlp.add_pipe('textrank')"
      ],
      "metadata": {
        "colab": {
          "base_uri": "https://localhost:8080/"
        },
        "id": "GR47_lo-jGCt",
        "outputId": "5b39c4c5-5a56-42f1-a0df-6146401ad822"
      },
      "execution_count": 18,
      "outputs": [
        {
          "output_type": "execute_result",
          "data": {
            "text/plain": [
              "<pytextrank.base.BaseTextRankFactory at 0x7f50b42cd150>"
            ]
          },
          "metadata": {},
          "execution_count": 18
        }
      ]
    },
    {
      "cell_type": "code",
      "source": [
        "#собираем корпус-словарь из текстов статей и соответствующих им ключевых слов/фраз по textrank\n",
        "\n",
        "articles_textrank = {}\n",
        "\n",
        "for text in articles.keys():\n",
        "  keywords_textrank = []\n",
        "  doc = nlp(text)\n",
        "  for phrase in doc._.phrases:\n",
        "    keywords_textrank.append(phrase.text)\n",
        "  if len(keywords_textrank) > 15:\n",
        "    articles_textrank.update({text: keywords_textrank[:15]})\n",
        "  else:\n",
        "    articles_textrank.update({text: keywords_textrank})"
      ],
      "metadata": {
        "id": "nIJvO8dNjJxM"
      },
      "execution_count": 19,
      "outputs": []
    },
    {
      "cell_type": "markdown",
      "source": [
        "### 3.2. keyBERT"
      ],
      "metadata": {
        "id": "taqSOVJzwsAp"
      }
    },
    {
      "cell_type": "code",
      "source": [
        "! pip install keybert"
      ],
      "metadata": {
        "id": "kx0JoATywtRf"
      },
      "execution_count": null,
      "outputs": []
    },
    {
      "cell_type": "code",
      "source": [
        "from keybert import KeyBERT"
      ],
      "metadata": {
        "id": "rl2UdOT0w0wM"
      },
      "execution_count": 21,
      "outputs": []
    },
    {
      "cell_type": "code",
      "source": [
        "kw_extractor = KeyBERT('distilbert-base-nli-mean-tokens')"
      ],
      "metadata": {
        "id": "bgYO3lMx5INO"
      },
      "execution_count": null,
      "outputs": []
    },
    {
      "cell_type": "markdown",
      "source": [
        "с keyBERT есть проблема: он показывает нам ключевые н-граммы только в заданных рамках. для +-(так себе)сбалансированности попросим его выдать нам 7 униграмм и 8 биграмм:"
      ],
      "metadata": {
        "id": "qkOuaD9BW6X1"
      }
    },
    {
      "cell_type": "code",
      "source": [
        "#собираем корпус-словарь из текстов статей и соответствующих им ключевых слов/фраз по keybert\n",
        "\n",
        "articles_keybert = {}\n",
        "\n",
        "for text in articles.keys():\n",
        "    keywords_keybert = []\n",
        "    keyword_unigrams = kw_extractor.extract_keywords(text, keyphrase_ngram_range=(1, 1), top_n=7)\n",
        "    for item in keyword_unigrams:\n",
        "      keywords_keybert.append(item[0])\n",
        "    keyword_bigrams = kw_extractor.extract_keywords(text, keyphrase_ngram_range=(1, 2), top_n=8)\n",
        "    for items in keyword_bigrams:\n",
        "      keywords_keybert.append(items[0])\n",
        "    articles_keybert.update({text: keywords_keybert})"
      ],
      "metadata": {
        "id": "IQw5kwUS5Gcz"
      },
      "execution_count": 23,
      "outputs": []
    },
    {
      "cell_type": "markdown",
      "source": [
        "### 3.3. Gensim"
      ],
      "metadata": {
        "id": "478Etmvs_wSP"
      }
    },
    {
      "cell_type": "code",
      "source": [
        "! pip install gensim"
      ],
      "metadata": {
        "id": "CgQvfzq8A4Ca"
      },
      "execution_count": null,
      "outputs": []
    },
    {
      "cell_type": "code",
      "source": [
        "from gensim.summarization import keywords"
      ],
      "metadata": {
        "id": "HeXYJpxuA5Rq"
      },
      "execution_count": 41,
      "outputs": []
    },
    {
      "cell_type": "code",
      "source": [
        "#собираем корпус-словарь из текстов статей и соответствующих им ключевых слов/фраз по gensim\n",
        "\n",
        "articles_gensim = {}\n",
        "\n",
        "for text in articles.keys():\n",
        "  if len(keywords(text)) > 15:\n",
        "    articles_gensim.update({text: keywords(text).split('\\n')[:15]})\n",
        "  else:\n",
        "    articles_gensim.update({text: keywords(text).split('\\n')})"
      ],
      "metadata": {
        "id": "XX4ODcFhBBwD"
      },
      "execution_count": 42,
      "outputs": []
    },
    {
      "cell_type": "markdown",
      "source": [
        "## 4. Шаблоны"
      ],
      "metadata": {
        "id": "MsbIUiO1Kn3_"
      }
    },
    {
      "cell_type": "markdown",
      "source": [
        "посмотрим, какие pos-сочетания чаще всего являются ключевыми словами (помня о несбалансированности выборки из-за keyBERT). интуитивно (для английского языка) это NOUN, NOUN+NOUN и ADJ+NOUN."
      ],
      "metadata": {
        "id": "hNciEjoWKvtB"
      }
    },
    {
      "cell_type": "code",
      "source": [
        "#собираем список всех ключевых слов\n",
        "\n",
        "keywords_all = []\n",
        "\n",
        "for keywords_set in articles_textrank.values(), articles_keybert.values(), articles_gensim.values():\n",
        "  for words in keywords_set:\n",
        "    for keyphrase in words:\n",
        "      keywords_all.append(keyphrase)"
      ],
      "metadata": {
        "id": "KysLL_O4Mjmf"
      },
      "execution_count": 43,
      "outputs": []
    },
    {
      "cell_type": "code",
      "source": [
        "#собираем словарь ключевых слов/фраз и соответствующих им pos-тегов\n",
        "\n",
        "keywords_pos = {}\n",
        "\n",
        "for keyphrase in keywords_all:\n",
        "  if len(keyphrase.split()) > 1:\n",
        "    phrase_pos = []\n",
        "    doc = nlp(keyphrase)\n",
        "    for token in doc:\n",
        "      phrase_pos.append(token.pos_)\n",
        "    keywords_pos.update({keyphrase: '+'.join(phrase_pos)})\n",
        "  else:\n",
        "    doc = nlp(keyphrase)\n",
        "    for token in doc:\n",
        "       keywords_pos.update({keyphrase: token.pos_})"
      ],
      "metadata": {
        "id": "Ou4qO_30RF6e"
      },
      "execution_count": 44,
      "outputs": []
    },
    {
      "cell_type": "code",
      "source": [
        "from collections import Counter"
      ],
      "metadata": {
        "id": "cIVnGKuVh4l_"
      },
      "execution_count": 45,
      "outputs": []
    },
    {
      "cell_type": "markdown",
      "source": [
        "возьмем топ-10."
      ],
      "metadata": {
        "id": "0uJOZP5NiW7w"
      }
    },
    {
      "cell_type": "code",
      "source": [
        "top = Counter(list(keywords_pos.values())).most_common(10)\n",
        "top"
      ],
      "metadata": {
        "colab": {
          "base_uri": "https://localhost:8080/"
        },
        "id": "NoGYO-jUmuMy",
        "outputId": "3fa7d534-7ff2-46bc-e62d-61ff726e7ed2"
      },
      "execution_count": 46,
      "outputs": [
        {
          "output_type": "execute_result",
          "data": {
            "text/plain": [
              "[('NOUN', 154),\n",
              " ('PROPN', 62),\n",
              " ('NOUN+NOUN', 56),\n",
              " ('ADJ+NOUN', 44),\n",
              " ('VERB', 42),\n",
              " ('PROPN+PROPN', 33),\n",
              " ('PROPN+NOUN', 22),\n",
              " ('ADJ', 18),\n",
              " ('VERB+NOUN', 16),\n",
              " ('NUM+NOUN', 12)]"
            ]
          },
          "metadata": {},
          "execution_count": 46
        }
      ]
    },
    {
      "cell_type": "code",
      "source": [
        "top_list = []\n",
        "for i in range(len(top)):\n",
        "  top_list.append(top[i][0])"
      ],
      "metadata": {
        "id": "1MpZTFlsvXrJ"
      },
      "execution_count": 47,
      "outputs": []
    },
    {
      "cell_type": "code",
      "source": [
        "#фильтруем ключевые слова из корпуса\n",
        "\n",
        "def filter_keywords(articles_dictionary: list) -> list:\n",
        "  articles_filtered = {}\n",
        "  for k, v in articles_dictionary.items():\n",
        "    filtered_keyphrases = []\n",
        "    for item in v:\n",
        "      for key, value in keywords_pos.items():\n",
        "        if item == key and value in top_list:\n",
        "          filtered_keyphrases.append(item)\n",
        "        articles_filtered.update({k: filtered_keyphrases})\n",
        "  return articles_filtered"
      ],
      "metadata": {
        "id": "gUzme3JYk2W6"
      },
      "execution_count": 48,
      "outputs": []
    },
    {
      "cell_type": "code",
      "source": [
        "filtered_textrank = filter_keywords(articles_textrank)\n",
        "filtered_keybert = filter_keywords(articles_keybert)\n",
        "filtered_gensim = filter_keywords(articles_gensim)"
      ],
      "metadata": {
        "id": "nybkvUyOUUWY"
      },
      "execution_count": 49,
      "outputs": []
    },
    {
      "cell_type": "markdown",
      "source": [
        "## Оценка методов"
      ],
      "metadata": {
        "id": "roexOtIoJYsD"
      }
    },
    {
      "cell_type": "markdown",
      "source": [
        "### 5.1. Без фильтра"
      ],
      "metadata": {
        "id": "EljDvjBwqGrn"
      }
    },
    {
      "cell_type": "code",
      "source": [
        "precisions = {}\n",
        "recalls = {}\n",
        "f1_scores = {}"
      ],
      "metadata": {
        "id": "fbZPjwEknmr6"
      },
      "execution_count": 50,
      "outputs": []
    },
    {
      "cell_type": "code",
      "source": [
        "articles_textrank_precision, articles_textrank_recall, articles_textrank_f1_score = evaluate_keyword_extraction(golden_standard, list(articles_textrank.values()))\n",
        "precisions.update({'textrank': articles_textrank_precision})\n",
        "recalls.update({'textrank': articles_textrank_recall})\n",
        "f1_scores.update({'textrank': articles_textrank_f1_score})"
      ],
      "metadata": {
        "id": "z_vhTqUyLTqW"
      },
      "execution_count": 51,
      "outputs": []
    },
    {
      "cell_type": "code",
      "source": [
        "articles_keybert_precision, articles_keybert_recall, articles_keybert_f1_score = evaluate_keyword_extraction(golden_standard, list(articles_keybert.values()))\n",
        "precisions.update({'keybert': articles_keybert_precision})\n",
        "recalls.update({'keybert': articles_keybert_recall})\n",
        "f1_scores.update({'keybert': articles_keybert_f1_score})"
      ],
      "metadata": {
        "id": "VrR-ukqfRU8S"
      },
      "execution_count": 52,
      "outputs": []
    },
    {
      "cell_type": "code",
      "source": [
        "articles_gensim_precision, articles_gensim_recall, articles_gensim_f1_score = evaluate_keyword_extraction(golden_standard, list(articles_gensim.values()))\n",
        "precisions.update({'gensim': articles_gensim_precision})\n",
        "recalls.update({'gensim': articles_gensim_recall})\n",
        "f1_scores.update({'gensim': articles_gensim_f1_score})"
      ],
      "metadata": {
        "id": "74G8Y09MRc-D"
      },
      "execution_count": 53,
      "outputs": []
    },
    {
      "cell_type": "code",
      "source": [
        "print(f'The best average precision is {max(precisions.values())} by {list(precisions.keys())[list(precisions.values()).index(max(precisions.values()))]} method')\n",
        "print(f'The best average recall is {max(recalls.values())} by {list(recalls.keys())[list(recalls.values()).index(max(recalls.values()))]} method')\n",
        "print(f'The best average f1-score is {max(f1_scores.values())} by {list(f1_scores.keys())[list(f1_scores.values()).index(max(f1_scores.values()))]} method')"
      ],
      "metadata": {
        "colab": {
          "base_uri": "https://localhost:8080/"
        },
        "id": "CuHZvtlBmzw8",
        "outputId": "67b614ee-1f6c-4605-a97d-03be188f9643"
      },
      "execution_count": 54,
      "outputs": [
        {
          "output_type": "stream",
          "name": "stdout",
          "text": [
            "The best average precision is 0.09661584261660632 by textrank method\n",
            "The best average recall is 0.36642857142857144 by gensim method\n",
            "The best average f1-score is 0.1521285531067762 by textrank method\n"
          ]
        }
      ]
    },
    {
      "cell_type": "markdown",
      "source": [
        "### 5.2. С фильтром"
      ],
      "metadata": {
        "id": "xT5Q-SW-qL2r"
      }
    },
    {
      "cell_type": "code",
      "source": [
        "precisions_filtered = {}\n",
        "recalls_filtered = {}\n",
        "f1_scores_filtered = {}"
      ],
      "metadata": {
        "id": "6TqRBRHbqlsS"
      },
      "execution_count": 55,
      "outputs": []
    },
    {
      "cell_type": "code",
      "source": [
        "articles_textrank_precision_filtered, articles_textrank_recall_filtered, articles_textrank_f1_score_filtered = evaluate_keyword_extraction(golden_standard, list(filtered_textrank.values()))\n",
        "precisions_filtered.update({'textrank': articles_textrank_precision_filtered})\n",
        "recalls_filtered.update({'textrank': articles_textrank_recall_filtered})\n",
        "f1_scores_filtered.update({'textrank': articles_textrank_f1_score_filtered})"
      ],
      "metadata": {
        "id": "cI2ndX3eqv9R"
      },
      "execution_count": 56,
      "outputs": []
    },
    {
      "cell_type": "code",
      "source": [
        "articles_keybert_precision_filtered, articles_keybert_recall_filtered, articles_keybert_f1_score_filtered = evaluate_keyword_extraction(golden_standard, list(filtered_keybert.values()))\n",
        "precisions_filtered.update({'keybert': articles_keybert_precision_filtered})\n",
        "recalls_filtered.update({'keybert': articles_keybert_recall_filtered})\n",
        "f1_scores_filtered.update({'keybert': articles_keybert_f1_score_filtered})"
      ],
      "metadata": {
        "id": "Sia6zNiGq_Gg"
      },
      "execution_count": 57,
      "outputs": []
    },
    {
      "cell_type": "code",
      "source": [
        "articles_gensim_precision_filtered, articles_gensim_recall_filtered, articles_gensim_f1_score_filtered = evaluate_keyword_extraction(golden_standard, list(filtered_gensim.values()))\n",
        "precisions_filtered.update({'gensim': articles_gensim_precision_filtered})\n",
        "recalls_filtered.update({'gensim': articles_gensim_recall_filtered})\n",
        "f1_scores_filtered.update({'gensim': articles_gensim_f1_score_filtered})"
      ],
      "metadata": {
        "id": "uuKUmHfGrJhl"
      },
      "execution_count": 58,
      "outputs": []
    },
    {
      "cell_type": "code",
      "source": [
        "print(f'The best average precision is {max(precisions_filtered.values())} by {list(precisions_filtered.keys())[list(precisions_filtered.values()).index(max(precisions_filtered.values()))]} method')\n",
        "print(f'The best average recall is {max(recalls_filtered.values())} by {list(recalls_filtered.keys())[list(recalls_filtered.values()).index(max(recalls_filtered.values()))]} method')\n",
        "print(f'The best average f1-score is {max(f1_scores_filtered.values())} by {list(f1_scores_filtered.keys())[list(f1_scores_filtered.values()).index(max(f1_scores_filtered.values()))]} method')"
      ],
      "metadata": {
        "colab": {
          "base_uri": "https://localhost:8080/"
        },
        "id": "oEEb44Yrra-Q",
        "outputId": "d7b53c25-9643-4c31-c872-53cc82f1727b"
      },
      "execution_count": 59,
      "outputs": [
        {
          "output_type": "stream",
          "name": "stdout",
          "text": [
            "The best average precision is 0.08766271336229853 by textrank method\n",
            "The best average recall is 0.38786583786583784 by textrank method\n",
            "The best average f1-score is 0.15038174810644783 by textrank method\n"
          ]
        }
      ]
    },
    {
      "cell_type": "code",
      "source": [
        "precisions_fin = {}\n",
        "recalls_fin = {}\n",
        "f1_scores_fin = {}\n",
        "\n",
        "precisions_fin.update({str(list(precisions.keys())[list(precisions.values()).index(max(precisions.values()))] + ', unfiltered'): max(precisions.values())})\n",
        "precisions_fin.update({str(list(precisions_filtered.keys())[list(precisions_filtered.values()).index(max(precisions_filtered.values()))] + ', filtered'): max(precisions_filtered.values())})\n",
        "\n",
        "recalls_fin.update({str(list(recalls.keys())[list(recalls.values()).index(max(recalls.values()))] + ', unfiltered'): max(recalls.values())})\n",
        "recalls_fin.update({str(list(recalls_filtered.keys())[list(recalls_filtered.values()).index(max(recalls_filtered.values()))] + ', filtered'): max(recalls_filtered.values())})\n",
        "\n",
        "f1_scores_fin.update({str(list(f1_scores.keys())[list(f1_scores.values()).index(max(f1_scores.values()))] + ', unfiltered'): max(f1_scores.values())})\n",
        "f1_scores_fin.update({str(list(f1_scores_filtered.keys())[list(f1_scores_filtered.values()).index(max(f1_scores_filtered.values()))] + ', filtered'): max(f1_scores_filtered.values())})"
      ],
      "metadata": {
        "id": "2iBvYt5Hr6oN"
      },
      "execution_count": 60,
      "outputs": []
    },
    {
      "cell_type": "code",
      "source": [
        "print(f'The best average precision is {max(precisions_fin.values())} by {list(precisions_fin.keys())[list(precisions_fin.values()).index(max(precisions_fin.values()))]} method')\n",
        "print(f'The best average recall is {max(recalls_fin.values())} by {list(recalls_fin.keys())[list(recalls_fin.values()).index(max(recalls_fin.values()))]} method')\n",
        "print(f'The best average f1-score is {max(f1_scores_fin.values())} by {list(f1_scores_fin.keys())[list(f1_scores_fin.values()).index(max(f1_scores_fin.values()))]} method')"
      ],
      "metadata": {
        "colab": {
          "base_uri": "https://localhost:8080/"
        },
        "id": "_uB7jKfMsrv4",
        "outputId": "dad0a006-3abf-450d-811c-78f77bd306e3"
      },
      "execution_count": 61,
      "outputs": [
        {
          "output_type": "stream",
          "name": "stdout",
          "text": [
            "The best average precision is 0.09661584261660632 by textrank, unfiltered method\n",
            "The best average recall is 0.38786583786583784 by textrank, filtered method\n",
            "The best average f1-score is 0.1521285531067762 by textrank, unfiltered method\n"
          ]
        }
      ]
    }
  ]
}